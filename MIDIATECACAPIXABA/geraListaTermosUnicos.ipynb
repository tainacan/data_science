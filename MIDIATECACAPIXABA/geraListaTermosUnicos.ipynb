{
 "cells": [
  {
   "cell_type": "code",
   "execution_count": 4,
   "id": "011fe580",
   "metadata": {},
   "outputs": [],
   "source": [
    "# Script para gerar lista de termos únicos de arquivo de vocabulário DE PARA\n",
    "# Funções que ele executa até o momento:\n",
    "# 1. Gera lista de nomes únicos para facilitar criação da taxonomia\n",
    "\n",
    "import pandas as pd\n"
   ]
  },
  {
   "cell_type": "code",
   "execution_count": 5,
   "id": "bd5eda45",
   "metadata": {},
   "outputs": [],
   "source": [
    "# Abre o arquivo com a lista de termos tratados DE PARA\n",
    "# Tomar cuidado de manter esse nome para entrada ou trocar por nome atual\n",
    "planilha = pd.read_excel(\"vocabnome_tratado_DE_PARA.xlsx\")\n"
   ]
  },
  {
   "cell_type": "code",
   "execution_count": 6,
   "id": "71da4591",
   "metadata": {},
   "outputs": [],
   "source": [
    "#Gera lista de termos únicos\n",
    "#Atentar para o nome da coluna\n",
    "\n",
    "termos=planilha.Autor.unique()\n",
    "\n",
    "#cria dataframe com o resultado para:\n",
    "# - facilitar ordenar os termos em ordem alfabética\n",
    "# - exportar para Excel\n",
    "\n",
    "df = pd.DataFrame(termos,columns=['Nomes próprios'])\n",
    "df=df.sort_values(by=['Nomes próprios'])\n",
    "df.to_excel(\"vocabnome_tratado_TERMOSUNICOS.xlsx\")\n"
   ]
  },
  {
   "cell_type": "code",
   "execution_count": null,
   "id": "5f790d06",
   "metadata": {},
   "outputs": [],
   "source": []
  }
 ],
 "metadata": {
  "kernelspec": {
   "display_name": "Python 3 (ipykernel)",
   "language": "python",
   "name": "python3"
  },
  "language_info": {
   "codemirror_mode": {
    "name": "ipython",
    "version": 3
   },
   "file_extension": ".py",
   "mimetype": "text/x-python",
   "name": "python",
   "nbconvert_exporter": "python",
   "pygments_lexer": "ipython3",
   "version": "3.9.7"
  }
 },
 "nbformat": 4,
 "nbformat_minor": 5
}
