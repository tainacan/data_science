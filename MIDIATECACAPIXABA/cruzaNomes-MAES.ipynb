{
 "cells": [
  {
   "cell_type": "code",
   "execution_count": 12,
   "metadata": {},
   "outputs": [],
   "source": [
    "import pandas as pd\n",
    "import os "
   ]
  },
  {
   "cell_type": "code",
   "execution_count": 13,
   "metadata": {},
   "outputs": [],
   "source": [
    "# base a ser substituídas\n",
    "base = pd.read_excel('/Users/daltonmartins/Library/CloudStorage/OneDrive-unb.br/Scripts/Busca nomes arquivos cruza códigos/baseMAES.xlsx')"
   ]
  },
  {
   "cell_type": "code",
   "execution_count": 14,
   "metadata": {},
   "outputs": [],
   "source": [
    "#Cria as novas colunas para as mídias\n",
    "base[\"Arquivo principal\"] = \"\"\n",
    "base[\"Anexos\"] = \"\""
   ]
  },
  {
   "cell_type": "code",
   "execution_count": 15,
   "metadata": {},
   "outputs": [
    {
     "name": "stdout",
     "output_type": "stream",
     "text": [
      "........................"
     ]
    },
    {
     "name": "stderr",
     "output_type": "stream",
     "text": [
      "<ipython-input-15-4c81b497796c>:22: SettingWithCopyWarning: \n",
      "A value is trying to be set on a copy of a slice from a DataFrame\n",
      "\n",
      "See the caveats in the documentation: https://pandas.pydata.org/pandas-docs/stable/user_guide/indexing.html#returning-a-view-versus-a-copy\n",
      "  base['Arquivo principal'][i]=os.path.join(os.path.realpath(diretorio), arquivo)\n"
     ]
    },
    {
     "name": "stdout",
     "output_type": "stream",
     "text": [
      "............................."
     ]
    },
    {
     "name": "stderr",
     "output_type": "stream",
     "text": [
      "<ipython-input-15-4c81b497796c>:20: SettingWithCopyWarning: \n",
      "A value is trying to be set on a copy of a slice from a DataFrame\n",
      "\n",
      "See the caveats in the documentation: https://pandas.pydata.org/pandas-docs/stable/user_guide/indexing.html#returning-a-view-versus-a-copy\n",
      "  base['Anexos'][i]=os.path.join(os.path.realpath(diretorio), arquivo)\n"
     ]
    },
    {
     "name": "stdout",
     "output_type": "stream",
     "text": [
      "................................................................................"
     ]
    }
   ],
   "source": [
    "pasta = '/Users/daltonmartins/Downloads/MAES/imagens transformadas'\n",
    "for diretorio, subpastas, arquivos in os.walk(pasta):\n",
    "    \n",
    "    for arquivo in arquivos:\n",
    "        \n",
    "        x = arquivo.find(\"_\")\n",
    "        codigoarquivo=arquivo[:x]\n",
    "        \n",
    "        for i in base.index:\n",
    "            codigoitem=str(base['Registro'][i]) #atentar para nomes das colunas\n",
    "     \n",
    "            if codigoarquivo==codigoitem:\n",
    "                print('.', end=\"\"),\n",
    "                #na primeira vez que entra, coloca o arquivo como PRINCIPAL\n",
    "                conteudo=str(base['Arquivo principal'][i])\n",
    "                if len(conteudo)>5:\n",
    "                    if len(str(base['Anexos'][i]))>5:\n",
    "                        base['Anexos'][i]=base['Anexos'][i]+\"||\"+os.path.join(os.path.realpath(diretorio), arquivo)\n",
    "                    else:\n",
    "                        base['Anexos'][i]=os.path.join(os.path.realpath(diretorio), arquivo)\n",
    "                else:\n",
    "                    base['Arquivo principal'][i]=os.path.join(os.path.realpath(diretorio), arquivo)\n",
    "    \n",
    "        #testa se o código foi identificado e exibe aqueles que não foram encontrados na documentação\n",
    "        #if(entrou==0):\n",
    "        #    print(\"Não achei metadados para :\",arquivo)\n",
    "                   \n",
    "base.to_excel(\"baseMAES-NOMESARQUIVOS.xlsx\")"
   ]
  },
  {
   "cell_type": "code",
   "execution_count": null,
   "metadata": {},
   "outputs": [],
   "source": []
  }
 ],
 "metadata": {
  "kernelspec": {
   "display_name": "Python 3",
   "language": "python",
   "name": "python3"
  },
  "language_info": {
   "codemirror_mode": {
    "name": "ipython",
    "version": 3
   },
   "file_extension": ".py",
   "mimetype": "text/x-python",
   "name": "python",
   "nbconvert_exporter": "python",
   "pygments_lexer": "ipython3",
   "version": "3.8.3"
  }
 },
 "nbformat": 4,
 "nbformat_minor": 4
}
