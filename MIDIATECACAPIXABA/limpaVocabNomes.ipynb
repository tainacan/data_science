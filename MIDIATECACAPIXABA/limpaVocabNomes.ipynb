{
 "cells": [
  {
   "cell_type": "code",
   "execution_count": 8,
   "id": "ab4954c5",
   "metadata": {},
   "outputs": [],
   "source": [
    "# Script para limpezas complementares ao OpenRefine\n",
    "# Funções que ele executa até o momento:\n",
    "# 1. Retira conteúdos entre ()\n",
    "# 2. Retira conteúdos entre []\n",
    "\n",
    "import pandas as pd"
   ]
  },
  {
   "cell_type": "code",
   "execution_count": 10,
   "id": "536172ed",
   "metadata": {},
   "outputs": [],
   "source": [
    "# Abre o arquivo tratado até o limite no Open Refine\n",
    "# Tomar cuidado de manter esse nome para entrada ou trocar por nome atual\n",
    "planilha = pd.read_excel('vocabnome_tratado_DE_PARA.xlsx')\n"
   ]
  },
  {
   "cell_type": "code",
   "execution_count": 11,
   "id": "d769909f",
   "metadata": {},
   "outputs": [],
   "source": [
    "for i in planilha.index:\n",
    "    nome=planilha['Autor'][i]\n",
    "    \n",
    "    # Retira conteúdos entre ()\n",
    "    if '(' in str(nome):\n",
    "        #print(nome)\n",
    "        posini = nome.find(\"(\")\n",
    "        posfim = nome.find(\")\")\n",
    "        novonome = nome.replace(nome[posini-1:posfim+1], \"\")\n",
    "        planilha=planilha.replace(planilha['Autor'][i],novonome)\n",
    "    \n",
    "    # Retira conteúdos entre []\n",
    "    if '[' in str(nome):\n",
    "        #print(nome)\n",
    "        posini = nome.find(\"[\")\n",
    "        posfim = nome.find(\"]\")\n",
    "        novonome = nome.replace(nome[posini-1:posfim+1], \"\")\n",
    "        planilha=planilha.replace(planilha['Autor'][i],novonome)\n",
    "        "
   ]
  },
  {
   "cell_type": "code",
   "execution_count": 12,
   "id": "50e62102",
   "metadata": {},
   "outputs": [],
   "source": [
    "# Testa se conteúdo foi retirado\n",
    "for i in planilha.index:\n",
    "    nome=planilha['Autor'][i]\n",
    "    if '(' in str(nome):\n",
    "        print(nome)\n",
    "    if '[' in str(nome):\n",
    "        print(nome)"
   ]
  },
  {
   "cell_type": "code",
   "execution_count": 13,
   "id": "32930910",
   "metadata": {},
   "outputs": [],
   "source": [
    "# gera planilha de saída\n",
    "planilha.to_excel(\"vocabnome_tratado_DE_PARA.xlsx\")"
   ]
  },
  {
   "cell_type": "code",
   "execution_count": null,
   "id": "65468ec5",
   "metadata": {},
   "outputs": [],
   "source": []
  }
 ],
 "metadata": {
  "kernelspec": {
   "display_name": "Python 3 (ipykernel)",
   "language": "python",
   "name": "python3"
  },
  "language_info": {
   "codemirror_mode": {
    "name": "ipython",
    "version": 3
   },
   "file_extension": ".py",
   "mimetype": "text/x-python",
   "name": "python",
   "nbconvert_exporter": "python",
   "pygments_lexer": "ipython3",
   "version": "3.9.7"
  }
 },
 "nbformat": 4,
 "nbformat_minor": 5
}
