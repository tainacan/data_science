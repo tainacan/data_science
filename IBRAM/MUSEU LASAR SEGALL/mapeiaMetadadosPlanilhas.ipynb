{
 "cells": [
  {
   "cell_type": "code",
   "execution_count": 22,
   "metadata": {},
   "outputs": [],
   "source": [
    "#O objetivo do Script é gerar uma lista relacional entre NOME DO ARQUIVO e NOME DAS COLUNAS\n",
    "#Serve de apoio para investigar as possibilidades de relacionamento que serão exploradas\n",
    "\n",
    "import pandas as pd\n",
    "import os\n"
   ]
  },
  {
   "cell_type": "code",
   "execution_count": 24,
   "metadata": {},
   "outputs": [
    {
     "name": "stdout",
     "output_type": "stream",
     "text": [
      "*\n",
      "*\n",
      "*\n",
      "*\n",
      "*\n",
      "*\n",
      "*\n",
      "*\n",
      "*\n",
      "*\n",
      "*\n",
      "*\n"
     ]
    }
   ],
   "source": [
    "acervo='acervos_fotografias_ALS'\n",
    "tipoacervo='Fotografias'\n",
    "pasta = '/Users/daltonmartins/Downloads/Modelagem Lasar Segall/'+acervo+\"/integracao\"\n",
    "\n",
    "df = pd. DataFrame(columns = [\"Source\", \"Target\"])\n",
    "\n",
    "for diretorio, subpastas, arquivos in os.walk(pasta):\n",
    "    \n",
    "    for arquivo in arquivos:\n",
    "            base = pd.read_excel('/Users/daltonmartins/Downloads/Modelagem Lasar Segall/'+acervo+'/integracao/'+arquivo)\n",
    "            lista=list(base.columns.values)\n",
    "            for i in range(len(lista)):\n",
    "                vinculo = [tipoacervo+' '+arquivo[:-5], lista[i]] # gera uma lista da relação nome arquivo e nome coluna\n",
    "                serie = pd. Series(vinculo, index = df. columns) # gera uma seria para incluir no dataframe\n",
    "                df = df. append(serie, ignore_index=True)\n",
    "            print(\"*\")\n",
    "    df.to_excel(\"/Users/daltonmartins/Downloads/Modelagem Lasar Segall/\"+acervo+\"/integracao/\"+tipoacervo+\".xlsx\",index=False)        "
   ]
  },
  {
   "cell_type": "code",
   "execution_count": null,
   "metadata": {},
   "outputs": [],
   "source": []
  }
 ],
 "metadata": {
  "kernelspec": {
   "display_name": "Python 3 (ipykernel)",
   "language": "python",
   "name": "python3"
  },
  "language_info": {
   "codemirror_mode": {
    "name": "ipython",
    "version": 3
   },
   "file_extension": ".py",
   "mimetype": "text/x-python",
   "name": "python",
   "nbconvert_exporter": "python",
   "pygments_lexer": "ipython3",
   "version": "3.9.7"
  }
 },
 "nbformat": 4,
 "nbformat_minor": 4
}
